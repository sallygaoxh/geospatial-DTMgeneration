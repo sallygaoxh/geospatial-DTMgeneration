{
 "cells": [
  {
   "cell_type": "code",
   "execution_count": 4,
   "metadata": {},
   "outputs": [],
   "source": [
    "import numpy as np\n",
    "from scipy import interpolate\n",
    "import matplotlib.pyplot as plt\n",
    "from scipy.interpolate import interp2d"
   ]
  },
  {
   "cell_type": "code",
   "execution_count": 2,
   "metadata": {},
   "outputs": [],
   "source": [
    "x, y = np.mgrid[-1:1:20j, -1:1:20j]\n",
    "z = (x+y) * np.exp(-6.0*(x*x+y*y))"
   ]
  },
  {
   "cell_type": "code",
   "execution_count": 3,
   "metadata": {},
   "outputs": [
    {
     "data": {
      "text/plain": [
       "(20, 20)"
      ]
     },
     "execution_count": 3,
     "metadata": {},
     "output_type": "execute_result"
    }
   ],
   "source": [
    "x.shape"
   ]
  },
  {
   "cell_type": "code",
   "execution_count": 5,
   "metadata": {},
   "outputs": [
    {
     "data": {
      "text/plain": [
       "numpy.ndarray"
      ]
     },
     "execution_count": 5,
     "metadata": {},
     "output_type": "execute_result"
    }
   ],
   "source": [
    "type(z)"
   ]
  },
  {
   "cell_type": "code",
   "execution_count": 6,
   "metadata": {},
   "outputs": [
    {
     "data": {
      "image/png": "[encoded data removed]",
      "text/plain": [
       "<matplotlib.figure.Figure at 0x10a2e8690>"
      ]
     },
     "metadata": {},
     "output_type": "display_data"
    }
   ],
   "source": [
    "plt.figure()\n",
    "plt.pcolor(z)\n",
    "plt.colorbar()\n",
    "plt.title(\"Sparsely sampled function.\")\n",
    "plt.show()"
   ]
  },
  {
   "cell_type": "code",
   "execution_count": 7,
   "metadata": {},
   "outputs": [],
   "source": [
    "xnew, ynew = np.mgrid[-1:1:70j, -1:1:70j]\n",
    "tck = interpolate.bisplrep(x, y, z, s=0)\n",
    "znew = interpolate.bisplev(xnew[:,0], ynew[0,:], tck)"
   ]
  },
  {
   "cell_type": "code",
   "execution_count": 8,
   "metadata": {},
   "outputs": [
    {
     "data": {
      "image/png": "[encoded data removed]",
      "text/plain": [
       "<matplotlib.figure.Figure at 0x10a2d3dd0>"
      ]
     },
     "metadata": {},
     "output_type": "display_data"
    }
   ],
   "source": [
    "plt.figure()\n",
    "plt.pcolor(znew)\n",
    "plt.colorbar()\n",
    "plt.title(\"Interpolated function.\")\n",
    "plt.show()"
   ]
  },
  {
   "cell_type": "code",
   "execution_count": 20,
   "metadata": {},
   "outputs": [],
   "source": [
    "input_file = 'final_project_point_cloud.fuse'\n",
    "points = open(input_file).readlines()\n",
    "\n",
    "point_list = []\n",
    "for point in points:\n",
    "    p_tmp = point.strip().split(\" \")\n",
    "    p_tmp_tofloat = list(map(float, p_tmp))\n",
    "    point_list.append(p_tmp_tofloat)\n",
    "\n",
    "#print len(point_list)\n",
    "\n",
    "organized = np.array(point_list).T\n",
    "x = organized[0]\n",
    "y = organized[1]\n",
    "\n",
    "#print x\n",
    "\n",
    "minX = min(x)\n",
    "minY = min(y)\n",
    "maxX = max(x)\n",
    "maxY = max(y)\n",
    "\n",
    "ver_pix_num = 70 # change\n",
    "delta_coor = (maxX-minX) / ver_pix_num\n",
    "hor_pix_num = int((maxY-minY) / delta_coor)\n",
    "# print hor_pix_num\n",
    "\n",
    "GPset = []\n",
    "\n",
    "for i in range(0, ver_pix_num):\n",
    "    tmp = []\n",
    "    for j in range(0, hor_pix_num):\n",
    "        tmp.append([])\n",
    "\n",
    "    GPset.append(tmp)\n",
    "\n",
    "\n",
    "for point in point_list:\n",
    "    x = point[0]\n",
    "    y = point[1]\n",
    "    alt = point[2]\n",
    "    i = point[3]\n",
    "\n",
    "    #print x,y\n",
    "\n",
    "    pix_x = int((x-minX) / delta_coor) - 1\n",
    "    pix_y = int((y-minY) / delta_coor) - 1\n",
    "\n",
    "    #print pix_x, pix_y\n",
    "\n",
    "    GPset[pix_x][pix_y].append((x,y,alt,i))\n",
    "\n",
    "\n",
    "\n",
    "\n",
    "#S(x,y) = STD(GP(x,y))\n",
    "DTM_std = []\n",
    "DTM_med = []\n",
    "DTM_min = []\n",
    "DTM_exist = []\n",
    "for i in range(0, ver_pix_num):\n",
    "    std_row = []\n",
    "    med_row = []\n",
    "    min_row = []\n",
    "    exist_row = []\n",
    "    for j in range(0, hor_pix_num):\n",
    "        if GPset[i][j]:\n",
    "            std_val = np.std([GPset[i][j][k][2] for k in range(0, len(GPset[i][j]))])\n",
    "            md_val = np.median([GPset[i][j][k][2] for k in range(0, len(GPset[i][j]))])\n",
    "            min_val = np.min([GPset[i][j][k][2] for k in range(0, len(GPset[i][j]))])\n",
    "            exist_val = 100\n",
    "            #print md_val\n",
    "        else:\n",
    "            std_val = 0\n",
    "            md_val = 222\n",
    "            min_val = 222\n",
    "            exist_val = 0\n",
    "\n",
    "        std_row.append(std_val)\n",
    "        med_row.append(md_val*1000)\n",
    "        min_row.append(min_val)\n",
    "        exist_row.append(exist_val)\n",
    "\n",
    "    DTM_std.append(std_row)\n",
    "    DTM_med.append(med_row)\n",
    "    DTM_min.append(min_row)\n",
    "    DTM_exist.append(exist_row)\n",
    "\n",
    "# STD = np.array(DTM_std)\n",
    "STD = np.fliplr(np.array(DTM_std).T).T\n",
    "# MED = np.array(DTM_med)\n",
    "MED = np.fliplr(np.array(DTM_med).T).T\n",
    "# MIN = np.array(DTM_min)\n",
    "MIN = np.fliplr(np.array(DTM_min).T).T\n",
    "# EXIST = np.array(DTM_exist)\n",
    "EXIST = np.fliplr(np.array(DTM_exist).T).T\n"
   ]
  },
  {
   "cell_type": "code",
   "execution_count": 21,
   "metadata": {},
   "outputs": [],
   "source": [
    "x = np.linspace(0, 4, 13)\n",
    "y = np.array([0, 2, 3, 3.5, 3.75, 3.875, 3.9375, 4])\n",
    "X, Y = np.meshgrid(x, y)\n",
    "Z = np.sin(np.pi*X/2) * np.exp(Y/2)\n",
    "\n",
    "x2 = np.linspace(0, 4, 65)\n",
    "y2 = np.linspace(0, 4, 65)\n",
    "f = interp2d(x, y, Z, kind='cubic')\n",
    "Z2 = f(x2, y2)"
   ]
  },
  {
   "cell_type": "code",
   "execution_count": 15,
   "metadata": {},
   "outputs": [
    {
     "data": {
      "text/plain": [
       "(65, 65)"
      ]
     },
     "execution_count": 15,
     "metadata": {},
     "output_type": "execute_result"
    }
   ],
   "source": [
    "Z2.shape"
   ]
  },
  {
   "cell_type": "code",
   "execution_count": 16,
   "metadata": {},
   "outputs": [],
   "source": [
    "x,y = np.mgrid[1:70:70j, 1:116:116j]\n",
    "X, Y = np.meshgrid(x, y)\n",
    "Z = MIN[X][Y]\n",
    "xnew,ynew = np.mgrid[1:70:140j, 1:116:232j]"
   ]
  },
  {
   "cell_type": "code",
   "execution_count": 18,
   "metadata": {},
   "outputs": [
    {
     "data": {
      "text/plain": [
       "70"
      ]
     },
     "execution_count": 18,
     "metadata": {},
     "output_type": "execute_result"
    }
   ],
   "source": [
    "MIN"
   ]
  },
  {
   "cell_type": "code",
   "execution_count": 19,
   "metadata": {},
   "outputs": [
    {
     "name": "stderr",
     "output_type": "stream",
     "text": [
      "/anaconda2/lib/python2.7/site-packages/scipy/interpolate/_fitpack_impl.py:974: RuntimeWarning: A theoretically impossible result when finding a smoothing spline\n",
      "with fp = s. Probable causes: s too small or badly chosen eps.\n",
      "(abs(fp-s)/s>0.001)\n",
      "\tkx,ky=3,3 nx,ny=73,101 m=8120 fp=584606683.770610 s=0.000000\n",
      "  warnings.warn(RuntimeWarning(_iermess2[ierm][0] + _mess))\n"
     ]
    }
   ],
   "source": [
    "f = interp2d(x, y, MIN, kind='cubic')"
   ]
  },
  {
   "cell_type": "code",
   "execution_count": null,
   "metadata": {},
   "outputs": [],
   "source": []
  },
  {
   "cell_type": "code",
   "execution_count": null,
   "metadata": {},
   "outputs": [],
   "source": []
  },
  {
   "cell_type": "code",
   "execution_count": null,
   "metadata": {},
   "outputs": [],
   "source": [
    "tck = interpolate.bisplrep(x, y, MIN, s=0)"
   ]
  },
  {
   "cell_type": "code",
   "execution_count": null,
   "metadata": {},
   "outputs": [],
   "source": [
    "resized_MIN = interpolate.bisplev(xnew[:,0], ynew[0,:], tck)"
   ]
  },
  {
   "cell_type": "code",
   "execution_count": 12,
   "metadata": {},
   "outputs": [
    {
     "data": {
      "image/png": "[encoded data removed]",
      "text/plain": [
       "<matplotlib.figure.Figure at 0x11005cd90>"
      ]
     },
     "metadata": {},
     "output_type": "display_data"
    }
   ],
   "source": [
    "plt.figure()\n",
    "plt.pcolor(MIN)\n",
    "plt.colorbar()\n",
    "plt.title(\"DTM\")\n",
    "plt.show()"
   ]
  },
  {
   "cell_type": "code",
   "execution_count": null,
   "metadata": {},
   "outputs": [],
   "source": [
    "plt.figure()\n",
    "plt.pcolor(resized_MIN)\n",
    "plt.colorbar()\n",
    "plt.title(\"Interpolated DTM\")\n",
    "plt.show()"
   ]
  },
  {
   "cell_type": "code",
   "execution_count": null,
   "metadata": {},
   "outputs": [],
   "source": []
  }
 ],
 "metadata": {
  "kernelspec": {
   "display_name": "Python 2",
   "language": "python",
   "name": "python2"
  },
  "language_info": {
   "codemirror_mode": {
    "name": "ipython",
    "version": 2
   },
   "file_extension": ".py",
   "mimetype": "text/x-python",
   "name": "python",
   "nbconvert_exporter": "python",
   "pygments_lexer": "ipython2",
   "version": "2.7.14"
  }
 },
 "nbformat": 4,
 "nbformat_minor": 2
}
